{
 "cells": [
  {
   "cell_type": "markdown",
   "metadata": {},
   "source": [
    "This POC focuses on creating a density map, chloropleth of population density based on counties in the US. \n",
    "\n",
    "Because we are using jupyter, extensions, must be installed using conda. \n",
    "\n",
    "There are two different types of counties df's, \n",
    "1. one is from bokeh\n",
    "2. the other is from a geo json file.\n",
    "\n",
    "The geo json file is needed to vizualize the data set. \n",
    "\n",
    "need to install jupyter extensions in order to show plotly \n",
    "https://github.com/plotly/plotly.py/issues/2508\n",
    "\n",
    "\n",
    "If you see this error, you are not connected to Internet\n",
    "\"<urlopen error [Errno 8] nodename nor servname provided, or not known>\"\n",
    "\n",
    "\n",
    "TypeError: Cannot interpret '<attribute 'dtype' of 'numpy.generic' objects>' as a data type\n",
    "https://github.com/numpy/numpy/issues/18165"
   ]
  },
  {
   "cell_type": "code",
   "execution_count": null,
   "metadata": {},
   "outputs": [],
   "source": [
    "from os.path import abspath\n",
    "import webbrowser\n",
    "import pandas as pd\n",
    "import holoviews as hv\n",
    "from holoviews import opts\n",
    "hv.extension('bokeh')\n",
    "from bokeh.sampledata.us_counties import data as counties\n",
    "\n",
    "df = pd.read_csv('../data/external/census_data_popl_2010.csv', encoding=\"ISO-8859-1\")\n",
    "\n",
    "df = pd.DataFrame(df,\n",
    "                  columns=\n",
    "                  ['Target Geo Id2',\n",
    "                  'Geographic area.1',\n",
    "                  'Density per square mile of land area - Population'])\n",
    "                            \n",
    "df.rename(columns =\n",
    "          {'Target Geo Id2':'fips',\n",
    "           'Geographic area.1': 'County',\n",
    "           'Density per square mile of land area - Population':'Density'},\n",
    "          inplace = True)\n",
    "\n",
    "print(f\"\\nInitial popl data:\\n {df.head()}\")\n",
    "print(f\"Shape of df = {df.shape}\\n\")\n",
    "\n",
    "# Remove non-county rows from data frame.\n",
    "df = df[df['fips'] > 100]\n",
    "print(f\"Popl data with non-county rows removed:\\n {df.head()}\")\n",
    "print(f\"Shape of df = {df.shape}\\n\")\n",
    "\n",
    "# Create columns for state and county id numbers.\n",
    "df['state_id'] = (df['fips'] // 1000).astype('int64')\n",
    "df['cid'] = (df['fips'] % 1000).astype('int64')\n",
    "print(f\"Popl data with new ID columns:\\n {df.head()}\")\n",
    "print(f\"Shape of df = {df.shape}\\n\")\n",
    "print(\"df info:\")\n",
    "print(df.info())  # Lists data types of each column.\n",
    "\n",
    "# Check that 5-digit fips handled correctly.\n",
    "print(\"\\nPopl data at row 500:\")\n",
    "print(df.loc[500])\n",
    "\n",
    "# Make dictionary of state_id, cid tuple vs popl density.\n",
    "state_ids = df.state_id.tolist()\n",
    "cids = df.cid.tolist()\n",
    "den = df.Density.tolist()\n",
    "tuple_list = tuple(zip(state_ids, cids))\n",
    "popl_dens_dict = dict(zip(tuple_list, den))\n",
    "\n",
    "# Exclude states & territories not part of conterminious US.\n",
    "EXCLUDED = ('ak', 'hi', 'pr', 'gu', 'vi', 'mp', 'as')\n",
    "\n",
    "counties = [dict(county, Density=popl_dens_dict[cid])\n",
    "            for cid, county in counties.items()\n",
    "            if county[\"state\"] not in EXCLUDED]\n"
   ]
  },
  {
   "cell_type": "code",
   "execution_count": null,
   "metadata": {},
   "outputs": [],
   "source": [
    "df.head()"
   ]
  },
  {
   "cell_type": "code",
   "execution_count": null,
   "metadata": {},
   "outputs": [],
   "source": [
    "fips_col = df['Density']\n",
    "fips_col.max()"
   ]
  },
  {
   "cell_type": "code",
   "execution_count": null,
   "metadata": {},
   "outputs": [],
   "source": [
    "df['fips'] = (df['fips']).astype('int64')\n",
    "df['fips'] = df['fips'].apply(lambda x: '{0:0>5}'.format(x))\n",
    "df['fips'] = (df['fips']).astype('str')\n",
    "df_viz = df.drop(columns=['County', 'state_id', 'cid'])\n",
    "df_viz.head()"
   ]
  },
  {
   "cell_type": "code",
   "execution_count": null,
   "metadata": {},
   "outputs": [],
   "source": [
    "from urllib.request import urlopen\n",
    "import json\n",
    "with urlopen('https://raw.githubusercontent.com/plotly/datasets/master/geojson-counties-fips.json') as response:\n",
    "    counties = json.load(response)\n",
    "    \n",
    "counties[\"features\"][0]"
   ]
  },
  {
   "cell_type": "code",
   "execution_count": null,
   "metadata": {},
   "outputs": [],
   "source": [
    "import plotly.express as px\n",
    "# import plotly.graph_objs as px\n",
    "from plotly.offline import init_notebook_mode, iplot\n",
    "init_notebook_mode(connected = True)\n",
    "\n",
    "fig = px.choropleth(df_viz, geojson=counties, locations='fips', color='Density',\n",
    "                           color_continuous_scale=\"Viridis\",\n",
    "                           range_color=(0, 500),\n",
    "                           scope=\"usa\",\n",
    "                           labels={'Density':'population density'}\n",
    "                          )\n",
    "fig.update_layout(margin={\"r\":0,\"t\":0,\"l\":0,\"b\":0})\n",
    "# fig.show()\n",
    "iplot(fig)"
   ]
  },
  {
   "cell_type": "code",
   "execution_count": null,
   "metadata": {},
   "outputs": [],
   "source": [
    "from urllib.request import urlopen\n",
    "import json\n",
    "with urlopen('https://raw.githubusercontent.com/plotly/datasets/master/geojson-counties-fips.json') as response:\n",
    "    counties = json.load(response)\n",
    "\n",
    "import pandas as pd\n",
    "df = pd.read_csv(\"https://raw.githubusercontent.com/plotly/datasets/master/fips-unemp-16.csv\",\n",
    "                   dtype={\"fips\": str})\n",
    "\n",
    "import plotly.express as px\n",
    "\n",
    "fig = px.choropleth(df, geojson=counties, locations='fips', color='unemp',\n",
    "                           color_continuous_scale=\"Viridis\",\n",
    "                           range_color=(0, 12),\n",
    "                           scope=\"usa\",\n",
    "                           labels={'unemp':'unemployment rate'}\n",
    "                          )\n",
    "fig.update_layout(margin={\"r\":0,\"t\":0,\"l\":0,\"b\":0})\n",
    "fig.show()"
   ]
  },
  {
   "cell_type": "code",
   "execution_count": null,
   "metadata": {},
   "outputs": [],
   "source": []
  }
 ],
 "metadata": {
  "kernelspec": {
   "display_name": "Python 3 (ipykernel)",
   "language": "python",
   "name": "python3"
  },
  "language_info": {
   "codemirror_mode": {
    "name": "ipython",
    "version": 3
   },
   "file_extension": ".py",
   "mimetype": "text/x-python",
   "name": "python",
   "nbconvert_exporter": "python",
   "pygments_lexer": "ipython3",
   "version": "3.11.5"
  }
 },
 "nbformat": 4,
 "nbformat_minor": 4
}
