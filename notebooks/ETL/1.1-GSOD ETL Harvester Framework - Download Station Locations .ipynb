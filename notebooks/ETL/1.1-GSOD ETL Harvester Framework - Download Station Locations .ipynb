{
 "cells": [
  {
   "cell_type": "markdown",
   "metadata": {},
   "source": [
    "# GSOD ETL Harvester Framework - Download Station Location meta data file\n",
    "\n",
    "This notebook will focus on downloading the station meta data file, and cleaning it up. \n",
    "\n",
    "https://www.ncei.noaa.gov/pub/data/noaa/isd-history.csv\n",
    "\n",
    "## Weather Station Location File - Global Surface Summary of the Day (GSOD)\n",
    "\n",
    "The station meta data history file the location, and other data of each of the station around the world, which can be used to fuse weather data with covid data.\n",
    "\n",
    "# Changelog / To-Do  \n",
    "\n",
    " * **2020-05-17**: extracted file \n",
    " * **2020-06-11**: updloaded data to mongo\n",
    "\n",
    "**To-do**\n",
    "\n",
    "* figure out how to match station id, and name from GSOD data to this data set\n"
   ]
  },
  {
   "cell_type": "code",
   "execution_count": 9,
   "metadata": {},
   "outputs": [
    {
     "name": "stdout",
     "output_type": "stream",
     "text": [
      "Python 3.10.2\n",
      "/Users/owenmccusker/Documents/repos-git/covid-fusion/notebooks/ETL\n"
     ]
    }
   ],
   "source": [
    "%%bash\n",
    "python -V\n",
    "pwd"
   ]
  },
  {
   "cell_type": "code",
   "execution_count": 2,
   "metadata": {},
   "outputs": [
    {
     "name": "stderr",
     "output_type": "stream",
     "text": [
      "2024-10-27 21:43:13,995 - INFO - <module> - 3213728827 - Starting ETL of station metadata file\n",
      "2024-10-27 21:43:13,995 - INFO - <module> - 3213728827 - Starting ETL of station metadata file\n",
      "2024-10-27 21:43:13,997 - INFO - <module> - 3213728827 - File ../../data/interim/weather/gsod/isd-history.csv already exists\n",
      "2024-10-27 21:43:13,997 - INFO - <module> - 3213728827 - File ../../data/interim/weather/gsod/isd-history.csv already exists\n",
      "2024-10-27 21:43:14,417 - INFO - store_metadata_file - 3213728827 - delete_many: True\n",
      "2024-10-27 21:43:14,417 - INFO - store_metadata_file - 3213728827 - delete_many: True\n",
      "2024-10-27 21:43:14,418 - INFO - store_metadata_file - 3213728827 - delete_many: num docs deleted: 29561\n",
      "2024-10-27 21:43:14,418 - INFO - store_metadata_file - 3213728827 - delete_many: num docs deleted: 29561\n",
      "2024-10-27 21:43:14,785 - INFO - <module> - 3213728827 - Finished ETL of station metadata file\n",
      "2024-10-27 21:43:14,785 - INFO - <module> - 3213728827 - Finished ETL of station metadata file\n"
     ]
    }
   ],
   "source": [
    "import os\n",
    "import os.path\n",
    "from os import path\n",
    "import sys\n",
    "import logging\n",
    "import requests\n",
    "import pandas as pd\n",
    "import pymongo\n",
    "import json\n",
    "\n",
    "gsod_noaa_url = \"https://www.ncei.noaa.gov/pub/data/noaa/\"\n",
    "gsod_data_dir = \"../../data/interim/weather/gsod/\"\n",
    "gsod_metadata_history_filename = \"isd-history.csv\"\n",
    "database_name = 'covid_fusion'\n",
    "collection_name = 'gsod_station_metadata_isd_history'\n",
    "\n",
    "########################################################    \n",
    "#\n",
    "def setup_custom_logger(name):\n",
    "    formatter = logging.Formatter(fmt='%(asctime)s - %(levelname)s - %(funcName)s - %(module)s - %(message)s')\n",
    "    handler = logging.StreamHandler()\n",
    "    handler.setFormatter(formatter)\n",
    "    logger = logging.getLogger(name)\n",
    "    logger.setLevel(logging.DEBUG)\n",
    "    logger.addHandler(handler)\n",
    "    return logger\n",
    "\n",
    "########################################################    \n",
    "#\n",
    "def shutdown_etl_harvester():\n",
    "    # remember to close the handlers\n",
    "    for handler in logger.handlers:\n",
    "        handler.close()\n",
    "\n",
    "def get_gsod_station_location_file(url_pathname, local_pathname):\n",
    "    r = requests.get(url_pathname)\n",
    " \n",
    "    if r.status_code != 404:\n",
    "        with open(local_pathname, 'wb') as fp:\n",
    "            fp.write(r.content)\n",
    "    else:\n",
    "        logger.error(\"Response 404: Extracting gsod data file: (\" + url_pathname + \")\")\n",
    "\n",
    "def store_metadata_file(db_name, collection_name, local_pathname):\n",
    "    #    mg_client = pymongo.MongoClient('localhost', 27012)\n",
    "    mg_client = pymongo.MongoClient()\n",
    "    mg_db = mg_client[db_name]\n",
    "    db_cm = mg_db[collection_name]\n",
    "    \n",
    "    data = pd.read_csv(local_pathname)\n",
    "    data_json = json.loads(data.to_json(orient='records'))\n",
    "    result = db_cm.delete_many({})\n",
    "    logger.info('delete_many: %s', result.acknowledged)\n",
    "    logger.info('delete_many: num docs deleted: %s', result.deleted_count)    \n",
    "    result = db_cm.insert_many(data_json)\n",
    "        \n",
    "########################################################    \n",
    "# Download and clean station meta data file\n",
    "########################################################\n",
    "local_pathname =  gsod_data_dir + gsod_metadata_history_filename\n",
    "url_pathname = gsod_noaa_url + gsod_metadata_history_filename\n",
    "\n",
    "logger = setup_custom_logger('GSOD-ETL-Station-Metadata')\n",
    "\n",
    "logger.info('Starting ETL of station metadata file')\n",
    "\n",
    "# you can call logger = logging.getLogger('GSOD-ETL-Station-Metadata') if needed to initialize logger\n",
    "\n",
    "if path.exists(local_pathname) == False:\n",
    "    logger.info(\"Downloading station location metadata file from: \" + url_pathname)\n",
    "    get_gsod_station_location_file(url_pathname, local_pathname)\n",
    "else:\n",
    "    logger.info(\"File %s already exists\", local_pathname) \n",
    "    \n",
    "store_metadata_file(database_name, collection_name, local_pathname)\n",
    "\n",
    "shutdown_etl_harvester()\n",
    "\n",
    "logger.info('Finished ETL of station metadata file')\n"
   ]
  },
  {
   "cell_type": "code",
   "execution_count": null,
   "metadata": {},
   "outputs": [],
   "source": []
  },
  {
   "cell_type": "code",
   "execution_count": null,
   "metadata": {},
   "outputs": [],
   "source": []
  }
 ],
 "metadata": {
  "kernelspec": {
   "display_name": "Python 3 (ipykernel)",
   "language": "python",
   "name": "python3"
  },
  "language_info": {
   "codemirror_mode": {
    "name": "ipython",
    "version": 3
   },
   "file_extension": ".py",
   "mimetype": "text/x-python",
   "name": "python",
   "nbconvert_exporter": "python",
   "pygments_lexer": "ipython3",
   "version": "3.10.2"
  }
 },
 "nbformat": 4,
 "nbformat_minor": 4
}
